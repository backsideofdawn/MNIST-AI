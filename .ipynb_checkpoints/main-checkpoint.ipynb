{
 "cells": [
  {
   "cell_type": "code",
   "execution_count": 1,
   "id": "7ebed408-9bc1-46a2-8f37-e2b2234e77b4",
   "metadata": {},
   "outputs": [],
   "source": [
    "from mnistdataloader import *\n",
    "from network import *\n",
    "from os.path import join\n",
    "import numpy as np\n",
    "import matplotlib.pyplot as plt\n",
    "\n",
    "# Loading data from files\n",
    "input_path = 'data'\n",
    "training_images_filepath = join(input_path, 'train-images-idx3-ubyte/train-images-idx3-ubyte')\n",
    "training_labels_filepath = join(input_path, 'train-labels-idx1-ubyte/train-labels-idx1-ubyte')\n",
    "test_images_filepath = join(input_path, 't10k-images-idx3-ubyte/t10k-images-idx3-ubyte')\n",
    "test_labels_filepath = join(input_path, 't10k-labels-idx1-ubyte/t10k-labels-idx1-ubyte')\n",
    "\n",
    "mnist_dataloader = MnistDataloader(training_images_filepath, training_labels_filepath, test_images_filepath, test_labels_filepath)\n",
    "\n",
    "(x_train, y_train), (x_test, y_test) = mnist_dataloader.load_data()\n",
    "\n",
    "# Formatting data\n",
    "x_train = np.array([np.array(x).flatten() for x in x_train])\n",
    "y_train = np.eye(10)[y_train]\n",
    "\n",
    "# Shuffling data\n",
    "shuffle_order = np.random.permutation(len(x_train))\n",
    "x_train = x_train[shuffle_order, ...]\n",
    "y_train = y_train[shuffle_order, ...]\n",
    "\n",
    "# Splitting data\n",
    "batch_size = 256\n",
    "x_batches = [x_train[i:i+64] for i in range(int(np.ceil(len(x_train[:(batch_size * 100)]) / batch_size)))]\n",
    "y_batches = [y_train[i:i+64] for i in range(int(np.ceil(len(y_train[:(batch_size * 100)]) / batch_size)))]\n",
    "\n",
    "x_test = [np.array(x).flatten() for x in x_test]\n",
    "y_test = np.eye(10)[y_test]"
   ]
  },
  {
   "cell_type": "code",
   "execution_count": 2,
   "id": "ea7dc13f-cbfe-473e-897e-af69d0502b03",
   "metadata": {},
   "outputs": [],
   "source": [
    "nn = Network(28 * 28, 16, 16, 10, regularization=0)"
   ]
  },
  {
   "cell_type": "code",
   "execution_count": null,
   "id": "e31b7164-e221-4b33-94c8-018dca904a82",
   "metadata": {},
   "outputs": [
    {
     "name": "stdout",
     "output_type": "stream",
     "text": [
      "...20.7839005777\n",
      "...20.4385128138\n",
      "...2.3748076326\n",
      "...2.3639479020\n",
      "...2.3544801530\n",
      "...2.3462670733\n",
      "...2.3391779528\n",
      "...2.3330891816\n",
      "...2.3278848348\n",
      "...2.3234572118\n",
      "...2.3197072422\n",
      "...2.3165447090\n",
      "...2.3138882734\n",
      "...2.3116653069\n",
      "...2.3098115549\n"
     ]
    }
   ],
   "source": [
    "for i in range(100):\n",
    "    nn.batch_train(x_train, y_train, learning_rate=1)\n",
    "    print('...', end='')\n",
    "    print(f'{nn.batch_loss(x_train, y_train):.10f}')"
   ]
  },
  {
   "cell_type": "code",
   "execution_count": 9,
   "id": "9ad77cfb-cdd7-470b-8f79-bebeddfe33e2",
   "metadata": {},
   "outputs": [
    {
     "name": "stdout",
     "output_type": "stream",
     "text": [
      "1.1485831908\n",
      "0.7944455092\n",
      "0.7753582391\n",
      "0.7943594204\n",
      "0.7915377680\n",
      "0.8150180870\n",
      "0.7840123218\n",
      "0.7397353978\n",
      "0.6970897223\n",
      "0.8634204689\n",
      "\n",
      " TEST LOSS: 10.5248384982 \n",
      "\n",
      "0.7778841147\n",
      "0.6919870850\n",
      "0.6729958632\n",
      "0.6546037616\n",
      "0.6126061657\n",
      "0.6266826134\n",
      "0.6423795851\n",
      "0.6375686145\n",
      "0.6420562774\n",
      "0.6397535053\n",
      "\n",
      " TEST LOSS: 10.4643651894 \n",
      "\n",
      "0.6530222622\n",
      "0.6472877927\n",
      "0.6095282656\n",
      "0.5677839998\n",
      "0.5655585984\n",
      "0.5454364727\n",
      "0.5372670388\n",
      "0.5261407817\n",
      "0.5137510146\n",
      "0.5293419312\n",
      "\n",
      " TEST LOSS: 10.6405608320 \n",
      "\n",
      "0.5269415317\n",
      "0.5320639230\n",
      "0.5295389766\n",
      "0.5644657946\n",
      "0.5633683381\n",
      "0.5980506586\n",
      "0.6333045778\n",
      "0.6376288987\n"
     ]
    },
    {
     "ename": "KeyboardInterrupt",
     "evalue": "",
     "output_type": "error",
     "traceback": [
      "\u001b[0;31m---------------------------------------------------------------------------\u001b[0m",
      "\u001b[0;31mKeyboardInterrupt\u001b[0m                         Traceback (most recent call last)",
      "Cell \u001b[0;32mIn[9], line 4\u001b[0m\n\u001b[1;32m      2\u001b[0m \u001b[38;5;28;01mfor\u001b[39;00m x, y \u001b[38;5;129;01min\u001b[39;00m \u001b[38;5;28mzip\u001b[39m(x_batches, y_batches):\n\u001b[1;32m      3\u001b[0m     \u001b[38;5;28;01mfor\u001b[39;00m i \u001b[38;5;129;01min\u001b[39;00m \u001b[38;5;28mrange\u001b[39m(\u001b[38;5;241m100\u001b[39m):\n\u001b[0;32m----> 4\u001b[0m         \u001b[43mnn\u001b[49m\u001b[38;5;241;43m.\u001b[39;49m\u001b[43mbatch_train\u001b[49m\u001b[43m(\u001b[49m\u001b[43mx\u001b[49m\u001b[43m,\u001b[49m\u001b[43m \u001b[49m\u001b[43my\u001b[49m\u001b[43m,\u001b[49m\u001b[43m \u001b[49m\u001b[43mlearning_rate\u001b[49m\u001b[38;5;241;43m=\u001b[39;49m\u001b[38;5;241;43m0.0001\u001b[39;49m\u001b[43m)\u001b[49m\n\u001b[1;32m      5\u001b[0m     \u001b[38;5;28mprint\u001b[39m(\u001b[38;5;124mf\u001b[39m\u001b[38;5;124m\"\u001b[39m\u001b[38;5;132;01m{\u001b[39;00mnn\u001b[38;5;241m.\u001b[39mbatch_loss(x, y)\u001b[38;5;132;01m:\u001b[39;00m\u001b[38;5;124m.10f\u001b[39m\u001b[38;5;132;01m}\u001b[39;00m\u001b[38;5;124m\"\u001b[39m)\n\u001b[1;32m      6\u001b[0m     count \u001b[38;5;241m+\u001b[39m\u001b[38;5;241m=\u001b[39m \u001b[38;5;241m1\u001b[39m\n",
      "File \u001b[0;32m~/Documents/MNIST AI/network.py:80\u001b[0m, in \u001b[0;36mNetwork.batch_train\u001b[0;34m(self, x_batch, y_batch, learning_rate)\u001b[0m\n\u001b[1;32m     78\u001b[0m \u001b[38;5;66;03m# Update the gradients for each example\u001b[39;00m\n\u001b[1;32m     79\u001b[0m \u001b[38;5;28;01mfor\u001b[39;00m x, y \u001b[38;5;129;01min\u001b[39;00m \u001b[38;5;28mzip\u001b[39m(x_batch, y_batch):\n\u001b[0;32m---> 80\u001b[0m     \u001b[38;5;28;43mself\u001b[39;49m\u001b[38;5;241;43m.\u001b[39;49m\u001b[43mback_propagate\u001b[49m\u001b[43m(\u001b[49m\u001b[43mx\u001b[49m\u001b[43m,\u001b[49m\u001b[43m \u001b[49m\u001b[43my\u001b[49m\u001b[43m,\u001b[49m\u001b[43m \u001b[49m\u001b[43mlearning_rate\u001b[49m\u001b[43m,\u001b[49m\u001b[43m \u001b[49m\u001b[43mweights_grad\u001b[49m\u001b[43m,\u001b[49m\u001b[43m \u001b[49m\u001b[43mbiases_grad\u001b[49m\u001b[43m)\u001b[49m\n\u001b[1;32m     82\u001b[0m \u001b[38;5;66;03m# Update the weights by the mean gradient\u001b[39;00m\n\u001b[1;32m     83\u001b[0m \u001b[38;5;28;01mfor\u001b[39;00m i \u001b[38;5;129;01min\u001b[39;00m \u001b[38;5;28mrange\u001b[39m(\u001b[38;5;28mself\u001b[39m\u001b[38;5;241m.\u001b[39mlayer_count \u001b[38;5;241m-\u001b[39m \u001b[38;5;241m1\u001b[39m):\n",
      "File \u001b[0;32m~/Documents/MNIST AI/network.py:69\u001b[0m, in \u001b[0;36mNetwork.back_propagate\u001b[0;34m(self, x, y, learning_rate, weights_grad, biases_grad)\u001b[0m\n\u001b[1;32m     65\u001b[0m \u001b[38;5;28;01mfor\u001b[39;00m i \u001b[38;5;129;01min\u001b[39;00m \u001b[38;5;28mreversed\u001b[39m(\u001b[38;5;28mrange\u001b[39m(\u001b[38;5;28mself\u001b[39m\u001b[38;5;241m.\u001b[39mlayer_count \u001b[38;5;241m-\u001b[39m \u001b[38;5;241m1\u001b[39m)):\n\u001b[1;32m     66\u001b[0m     weights_grad[i] \u001b[38;5;241m-\u001b[39m\u001b[38;5;241m=\u001b[39m learning_rate \u001b[38;5;241m*\u001b[39m (\n\u001b[1;32m     67\u001b[0m         errors[i]\u001b[38;5;241m.\u001b[39mreshape(\u001b[38;5;241m-\u001b[39m\u001b[38;5;241m1\u001b[39m, \u001b[38;5;241m1\u001b[39m) \u001b[38;5;241m@\u001b[39m \u001b[38;5;28mself\u001b[39m\u001b[38;5;241m.\u001b[39mactivations[i]\u001b[38;5;241m.\u001b[39mreshape(\u001b[38;5;241m1\u001b[39m, \u001b[38;5;241m-\u001b[39m\u001b[38;5;241m1\u001b[39m) \u001b[38;5;241m+\u001b[39m\n\u001b[1;32m     68\u001b[0m         \u001b[38;5;241m2\u001b[39m \u001b[38;5;241m*\u001b[39m \u001b[38;5;28mself\u001b[39m\u001b[38;5;241m.\u001b[39mregularization \u001b[38;5;241m*\u001b[39m \u001b[38;5;28mself\u001b[39m\u001b[38;5;241m.\u001b[39mweights[i])\n\u001b[0;32m---> 69\u001b[0m     biases_grad[i] \u001b[38;5;241m-\u001b[39m\u001b[38;5;241m=\u001b[39m learning_rate \u001b[38;5;241m*\u001b[39m errors[i]\n\u001b[1;32m     71\u001b[0m \u001b[38;5;28;01mreturn\u001b[39;00m (weights_grad)\n",
      "\u001b[0;31mKeyboardInterrupt\u001b[0m: "
     ]
    }
   ],
   "source": [
    "count = 0\n",
    "for x, y in zip(x_batches, y_batches):\n",
    "    for i in range(100):\n",
    "        nn.batch_train(x, y, learning_rate=0.0001)\n",
    "    print(f\"{nn.batch_loss(x, y):.10f}\")\n",
    "    count += 1\n",
    "    if (count % 10) == 0:\n",
    "        print(f\"\\n TEST LOSS: {nn.batch_loss(x_test, y_test):.10f} \\n\")\n",
    "loss = nn.batch_loss(x_train, y_train)\n",
    "print(f'Loss after: {loss:.10f}')"
   ]
  },
  {
   "cell_type": "code",
   "execution_count": 4,
   "id": "6dbe1454-ceb2-4169-b042-4703fd764919",
   "metadata": {},
   "outputs": [
    {
     "data": {
      "text/plain": [
       "array([0.07980572, 0.18291377, 0.09687323, 0.07711792, 0.07719099,\n",
       "       0.11609646, 0.10441765, 0.08062703, 0.10162784, 0.08332939])"
      ]
     },
     "execution_count": 4,
     "metadata": {},
     "output_type": "execute_result"
    }
   ],
   "source": [
    "nn.feed_forward(x_train[0])"
   ]
  },
  {
   "cell_type": "code",
   "execution_count": 5,
   "id": "32cf8c57-d3f5-4f38-9427-43c23b0c2dc8",
   "metadata": {},
   "outputs": [
    {
     "data": {
      "text/plain": [
       "11.27521073865499"
      ]
     },
     "execution_count": 5,
     "metadata": {},
     "output_type": "execute_result"
    }
   ],
   "source": [
    "nn.batch_loss(x_test, y_test)"
   ]
  },
  {
   "cell_type": "code",
   "execution_count": 6,
   "id": "b77fe28c-ff3e-4de1-9c30-fdc232f841c7",
   "metadata": {},
   "outputs": [
    {
     "name": "stdout",
     "output_type": "stream",
     "text": [
      "[0. 0. 0. 0. 1. 0. 0. 0. 0. 0.]\n"
     ]
    }
   ],
   "source": [
    "print(y_train[1])"
   ]
  },
  {
   "cell_type": "code",
   "execution_count": 7,
   "id": "65a23e7d-9027-4baa-91be-5a06fe1f6dd5",
   "metadata": {},
   "outputs": [],
   "source": [
    "def render(x):\n",
    "    for i in range(28 * 28):\n",
    "        if x[i] > 128:\n",
    "            print('.', end='')\n",
    "        else:\n",
    "            print('#', end='')\n",
    "        if (i + 1) % 28 == 0:\n",
    "            print('')"
   ]
  },
  {
   "cell_type": "code",
   "execution_count": 8,
   "id": "d2bfb123-1ce4-46c6-9f1a-740c91c41709",
   "metadata": {},
   "outputs": [
    {
     "name": "stdout",
     "output_type": "stream",
     "text": [
      "############################\n",
      "############################\n",
      "############################\n",
      "#################.##########\n",
      "#################.##########\n",
      "#################.##########\n",
      "#################.##########\n",
      "#################.##########\n",
      "#########..#####..##########\n",
      "########...#####..##########\n",
      "########...#####..##########\n",
      "#########..#####..##########\n",
      "#########..#####..##########\n",
      "#########..#####..##########\n",
      "##########.#####..##########\n",
      "##########...###..##########\n",
      "##########....#...##########\n",
      "##########.###.......#######\n",
      "#########..#####.###########\n",
      "################.###########\n",
      "################..##########\n",
      "################..##########\n",
      "################..##########\n",
      "############################\n",
      "############################\n",
      "############################\n",
      "############################\n",
      "############################\n"
     ]
    }
   ],
   "source": [
    "render(x_train[1])"
   ]
  },
  {
   "cell_type": "code",
   "execution_count": null,
   "id": "3535021b-59aa-44da-9b5e-f69920d7ca65",
   "metadata": {},
   "outputs": [],
   "source": []
  }
 ],
 "metadata": {
  "kernelspec": {
   "display_name": "Python 3 (ipykernel)",
   "language": "python",
   "name": "python3"
  },
  "language_info": {
   "codemirror_mode": {
    "name": "ipython",
    "version": 3
   },
   "file_extension": ".py",
   "mimetype": "text/x-python",
   "name": "python",
   "nbconvert_exporter": "python",
   "pygments_lexer": "ipython3",
   "version": "3.10.12"
  }
 },
 "nbformat": 4,
 "nbformat_minor": 5
}
